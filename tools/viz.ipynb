{
 "cells": [
  {
   "cell_type": "code",
   "execution_count": 1,
   "metadata": {},
   "outputs": [
    {
     "ename": "NameError",
     "evalue": "name '__file__' is not defined",
     "output_type": "error",
     "traceback": [
      "\u001b[0;31m---------------------------------------------------------------------------\u001b[0m",
      "\u001b[0;31mNameError\u001b[0m                                 Traceback (most recent call last)",
      "\u001b[0;32m/tmp/ipykernel_32640/2283383755.py\u001b[0m in \u001b[0;36m<module>\u001b[0;34m\u001b[0m\n\u001b[1;32m      1\u001b[0m \u001b[0;32mimport\u001b[0m \u001b[0mos\u001b[0m\u001b[0;34m\u001b[0m\u001b[0;34m\u001b[0m\u001b[0m\n\u001b[1;32m      2\u001b[0m \u001b[0;32mimport\u001b[0m \u001b[0msys\u001b[0m\u001b[0;34m\u001b[0m\u001b[0;34m\u001b[0m\u001b[0m\n\u001b[0;32m----> 3\u001b[0;31m \u001b[0mbase_path\u001b[0m \u001b[0;34m=\u001b[0m \u001b[0mos\u001b[0m\u001b[0;34m.\u001b[0m\u001b[0mpath\u001b[0m\u001b[0;34m.\u001b[0m\u001b[0mdirname\u001b[0m\u001b[0;34m(\u001b[0m\u001b[0mos\u001b[0m\u001b[0;34m.\u001b[0m\u001b[0mpath\u001b[0m\u001b[0;34m.\u001b[0m\u001b[0mdirname\u001b[0m\u001b[0;34m(\u001b[0m\u001b[0mos\u001b[0m\u001b[0;34m.\u001b[0m\u001b[0mpath\u001b[0m\u001b[0;34m.\u001b[0m\u001b[0mabspath\u001b[0m\u001b[0;34m(\u001b[0m\u001b[0m__file__\u001b[0m\u001b[0;34m)\u001b[0m\u001b[0;34m)\u001b[0m\u001b[0;34m)\u001b[0m\u001b[0;34m\u001b[0m\u001b[0;34m\u001b[0m\u001b[0m\n\u001b[0m\u001b[1;32m      4\u001b[0m \u001b[0msys\u001b[0m\u001b[0;34m.\u001b[0m\u001b[0mpath\u001b[0m\u001b[0;34m.\u001b[0m\u001b[0mappend\u001b[0m\u001b[0;34m(\u001b[0m\u001b[0mbase_path\u001b[0m\u001b[0;34m)\u001b[0m\u001b[0;34m\u001b[0m\u001b[0;34m\u001b[0m\u001b[0m\n\u001b[1;32m      5\u001b[0m \u001b[0;34m\u001b[0m\u001b[0m\n",
      "\u001b[0;31mNameError\u001b[0m: name '__file__' is not defined"
     ]
    }
   ],
   "source": [
    "import os\n",
    "import sys\n",
    "base_path = os.path.dirname(os.path.dirname(os.path.abspath(__file__)))\n",
    "sys.path.append(base_path)\n",
    "\n",
    "import argparse\n",
    "from mgenerf.utils import get_root_logger, Config\n",
    "from mgenerf.datasets import build_dataset\n",
    "from mgenerf.datasets import build_dataloader\n",
    "import open3d as o3d\n",
    "import numpy as np\n",
    "\n",
    "\n",
    "def parse_args():\n",
    "\tparser = argparse.ArgumentParser(description=\"viz camera poses\")\n",
    "\tparser.add_argument(\"config\", help=\"train config file path\")\n",
    "\targs = parser.parse_args()\n",
    "\treturn args\n",
    "\n",
    "\n",
    "def get_rays_np(H, W, K, c2w):\n",
    "\t\"\"\"\n",
    "\t\tK: intrinstic of camera [fu fv cx cy]\n",
    "\t\tc2w: camera to world transformation\n",
    "\t\"\"\"\n",
    "\ti, j = np.meshgrid(np.arange(W, dtype=np.float32), np.arange(H, dtype=np.float32), indexing='xy')\n",
    "\tdirs = np.stack([(i-K[2])/K[0], (j-K[3])/K[1], np.ones_like(i), np.ones_like(i)], -1)  #  [h,w,4]\n",
    "\tdirs = np.reshape(dirs, (H*W, 4, 1))\n",
    "\n",
    "\t# Rotate ray directions from camera frame to the world frame\n",
    "\n",
    "\tc2w = np.concatenate([c2w, [[0,0,0,1]]], axis=0) # [4,4]\n",
    "\tc2w = c2w.reshape(1, 4, 4)\n",
    "\n",
    "\trays_d = np.matmul(c2w, dirs)[:, :, 0]\n",
    "\trays_d = rays_d.reshape(H, W, 4)[:, :, :3]\n",
    "\t# Translate camera frame's origin to the world frame. It is the origin of all rays.\n",
    "\trays_o = np.broadcast_to(c2w[0, :3,-1], np.shape(rays_d))\n",
    "\treturn rays_o, rays_d # [h,w,3]  [h,w,3]\n"
   ]
  }
 ],
 "metadata": {
  "interpreter": {
   "hash": "a3bf7f5a9965707e01b00114997d92bfbc782aa9193aa89097f8a8f9759d740e"
  },
  "kernelspec": {
   "display_name": "Python 3.7.13 ('mge1.8')",
   "language": "python",
   "name": "python3"
  },
  "language_info": {
   "codemirror_mode": {
    "name": "ipython",
    "version": 3
   },
   "file_extension": ".py",
   "mimetype": "text/x-python",
   "name": "python",
   "nbconvert_exporter": "python",
   "pygments_lexer": "ipython3",
   "version": "3.7.13"
  },
  "orig_nbformat": 4
 },
 "nbformat": 4,
 "nbformat_minor": 2
}
